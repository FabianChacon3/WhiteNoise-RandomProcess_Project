{
  "nbformat": 4,
  "nbformat_minor": 0,
  "metadata": {
    "colab": {
      "provenance": [],
      "authorship_tag": "ABX9TyPzZ/hkBGhXBzAsgg7S5tym",
      "include_colab_link": true
    },
    "kernelspec": {
      "name": "python3",
      "display_name": "Python 3"
    },
    "language_info": {
      "name": "python"
    }
  },
  "cells": [
    {
      "cell_type": "markdown",
      "metadata": {
        "id": "view-in-github",
        "colab_type": "text"
      },
      "source": [
        "<a href=\"https://colab.research.google.com/github/FabianChacon3/WhiteNoise-RandomProcess_Project/blob/Fabian-2214192/Punto3_organizado.ipynb\" target=\"_parent\"><img src=\"https://colab.research.google.com/assets/colab-badge.svg\" alt=\"Open In Colab\"/></a>"
      ]
    },
    {
      "cell_type": "markdown",
      "source": [
        "Punto 3"
      ],
      "metadata": {
        "id": "U-xqY7mj1tsg"
      }
    },
    {
      "cell_type": "code",
      "source": [
        "# En Colab puedes usar:\n",
        "# %run Funciones.ipynb\n",
        "# %run Graficas.ipynb\n",
        "\n",
        "# 1. Generar señal aleatoria\n",
        "x = generar_ruido_normal(media=0, varianza=1, n=10000, seed=0)\n",
        "\n",
        "# 2. Aplicar el filtro\n",
        "y, b = aplicar_filtro_FIR(x, a=2)\n",
        "\n",
        "# 3. Calcular autocorrelación\n",
        "lags, autocorr_y = calcular_autocorrelacion(y)\n",
        "\n",
        "# 4. Calcular respuesta en frecuencia\n",
        "frecuencias, magnitud = respuesta_en_frecuencia(b)\n",
        "\n",
        "# 5. Graficar resultados\n",
        "graficar_autocorrelacion(lags, autocorr_y)\n",
        "graficar_respuesta_frecuencia(frecuencias, magnitud)\n"
      ],
      "metadata": {
        "id": "uFm6l3ga6j4N"
      },
      "execution_count": null,
      "outputs": []
    }
  ]
}