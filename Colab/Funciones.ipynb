{
  "nbformat": 4,
  "nbformat_minor": 0,
  "metadata": {
    "colab": {
      "provenance": [],
      "authorship_tag": "ABX9TyNk6Evj5sczzIeNeT36JP8V",
      "include_colab_link": true
    },
    "kernelspec": {
      "name": "python3",
      "display_name": "Python 3"
    },
    "language_info": {
      "name": "python"
    }
  },
  "cells": [
    {
      "cell_type": "markdown",
      "metadata": {
        "id": "view-in-github",
        "colab_type": "text"
      },
      "source": [
        "<a href=\"https://colab.research.google.com/github/FabianChacon3/WhiteNoise-RandomProcess_Project/blob/Fabian-2214192/Funciones.ipynb\" target=\"_parent\"><img src=\"https://colab.research.google.com/assets/colab-badge.svg\" alt=\"Open In Colab\"/></a>"
      ]
    },
    {
      "cell_type": "markdown",
      "source": [
        "# *Funciones*\n"
      ],
      "metadata": {
        "id": "U-xqY7mj1tsg"
      }
    },
    {
      "cell_type": "code",
      "source": [
        "import numpy as np\n",
        "from scipy.signal import lfilter, correlate, freqz\n",
        "\n",
        "def generar_ruido_normal(media=0, varianza=1, n=10000, seed=None):\n",
        "    if seed is not None:\n",
        "        np.random.seed(seed)\n",
        "    return np.random.normal(media, np.sqrt(varianza), n)\n",
        "\n",
        "def aplicar_filtro_FIR(x, a=2):\n",
        "    b = [1, -1/a, 1/(2*a)]\n",
        "    return lfilter(b, [1], x), b\n",
        "\n",
        "def calcular_autocorrelacion(x):\n",
        "    autocorr = correlate(x, x, mode='full') / len(x)\n",
        "    lags = np.arange(-len(x)+1, len(x))\n",
        "    return lags, autocorr\n",
        "\n",
        "def respuesta_en_frecuencia(b):\n",
        "    w, h = freqz(b, [1], worN=512)\n",
        "    return w/np.pi, np.abs(h)\n"
      ],
      "metadata": {
        "id": "qF_7wKSo521g"
      },
      "execution_count": null,
      "outputs": []
    }
  ]
}