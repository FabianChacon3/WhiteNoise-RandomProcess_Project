{
  "nbformat": 4,
  "nbformat_minor": 0,
  "metadata": {
    "colab": {
      "provenance": [],
      "authorship_tag": "ABX9TyP0Wm4qadYCYhOAHAtmhkS2",
      "include_colab_link": true
    },
    "kernelspec": {
      "name": "python3",
      "display_name": "Python 3"
    },
    "language_info": {
      "name": "python"
    }
  },
  "cells": [
    {
      "cell_type": "markdown",
      "metadata": {
        "id": "view-in-github",
        "colab_type": "text"
      },
      "source": [
        "<a href=\"https://colab.research.google.com/github/FabianChacon3/WhiteNoise-RandomProcess_Project/blob/Fabian-2214192/Version1.ipynb\" target=\"_parent\"><img src=\"https://colab.research.google.com/assets/colab-badge.svg\" alt=\"Open In Colab\"/></a>"
      ]
    },
    {
      "cell_type": "markdown",
      "source": [
        "Librerias"
      ],
      "metadata": {
        "id": "HirLv-Ai2AEI"
      }
    },
    {
      "cell_type": "code",
      "source": [
        "import numpy as np\n",
        "import matplotlib.pyplot as plt\n",
        "from scipy.signal import lfilter, correlate, welch"
      ],
      "metadata": {
        "id": "OzKcs8zp19CS"
      },
      "execution_count": null,
      "outputs": []
    },
    {
      "cell_type": "markdown",
      "source": [
        "Punto 1"
      ],
      "metadata": {
        "id": "bG2lYnFX12XW"
      }
    },
    {
      "cell_type": "code",
      "source": [
        "A = 10000\n",
        "#a = definir de acuerdo con la nota.\n",
        "x = np.random.normal(0, 1, A)\n",
        "t = np.arange(0, 10, 0.01)\n",
        "h = np.exp(-a*t)\n",
        "y = lfilter(h, [1], x)\n",
        "autocorr = correlate(y, y, mode='full') / A\n",
        "lags = np.arange(-A + 1, A)\n",
        "f, Pxx = welch(y, fs=100)\n"
      ],
      "metadata": {
        "id": "XaeqAZsy12G7"
      },
      "execution_count": null,
      "outputs": []
    },
    {
      "cell_type": "markdown",
      "source": [
        "Punto 2"
      ],
      "metadata": {
        "id": "BX7apKHZ1vRu"
      }
    },
    {
      "cell_type": "code",
      "source": [
        "X = np.random.normal(1, 2, 10000)\n",
        "#a = definir de acuerdo con la nota.\n",
        "H = [1/a, 1, 1/a]\n",
        "Y = lfilter(H, [1], X)\n",
        "plt.hist(X, bins=50, density=True, alpha=0.5, label='Entrada')\n",
        "plt.hist(Y, bins=50, density=True, alpha=0.5, label='Salida')\n",
        "plt.legend()\n",
        "plt.title(\"Comparación PDF entrada/salida\")\n",
        "plt.show()"
      ],
      "metadata": {
        "id": "QpLOjLBW1tKq"
      },
      "execution_count": null,
      "outputs": []
    },
    {
      "cell_type": "markdown",
      "source": [
        "Punto 3"
      ],
      "metadata": {
        "id": "U-xqY7mj1tsg"
      }
    },
    {
      "cell_type": "code",
      "execution_count": null,
      "metadata": {
        "id": "VKkfwGlq0PmD"
      },
      "outputs": [],
      "source": [
        "\n",
        "x = np.random.normal(0, 1, 10000)\n",
        "#a = definir de acuerdo con la nota.\n",
        "b = [1, -1/a, 1/2a]\n",
        "y = lfilter(b, [1], x)\n",
        "mean_y = np.mean(y)\n",
        "var_y = np.var(y)\n",
        "autocorr_y = correlate(y, y, mode='full') / len(y)\n",
        "plt.plot(autocorr_y[len(y)-100:len(y)+100])\n",
        "plt.title(\"Autocorrelación\")\n",
        "plt.show()"
      ]
    }
  ]
}