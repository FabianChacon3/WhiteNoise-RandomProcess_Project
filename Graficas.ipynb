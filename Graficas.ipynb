{
  "nbformat": 4,
  "nbformat_minor": 0,
  "metadata": {
    "colab": {
      "provenance": [],
      "authorship_tag": "ABX9TyNdCWGqtIj0BamOx0tVI1uB",
      "include_colab_link": true
    },
    "kernelspec": {
      "name": "python3",
      "display_name": "Python 3"
    },
    "language_info": {
      "name": "python"
    }
  },
  "cells": [
    {
      "cell_type": "markdown",
      "metadata": {
        "id": "view-in-github",
        "colab_type": "text"
      },
      "source": [
        "<a href=\"https://colab.research.google.com/github/FabianChacon3/WhiteNoise-RandomProcess_Project/blob/Fabian-2214192/Graficas.ipynb\" target=\"_parent\"><img src=\"https://colab.research.google.com/assets/colab-badge.svg\" alt=\"Open In Colab\"/></a>"
      ]
    },
    {
      "cell_type": "markdown",
      "source": [
        "Punto 3"
      ],
      "metadata": {
        "id": "U-xqY7mj1tsg"
      }
    },
    {
      "cell_type": "code",
      "source": [
        "import matplotlib.pyplot as plt\n",
        "\n",
        "def graficar_autocorrelacion(taus, autocorr, rango=100):\n",
        "    centro = len(taus) // 2\n",
        "    plt.figure()\n",
        "    plt.plot(taus[centro - rango : centro + rango + 1], autocorr[centro - rango : centro + rango + 1])\n",
        "    plt.title(\"Autocorrelación de $y[n]$\")\n",
        "    plt.xlabel(\"τ\")\n",
        "    plt.ylabel(\"R_y[τ]\")\n",
        "    plt.grid(True)\n",
        "    plt.show()\n",
        "\n",
        "def graficar_respuesta_frecuencia(frecuencias, magnitud):\n",
        "    plt.figure()\n",
        "    plt.plot(frecuencias, magnitud)\n",
        "    plt.title(\"Respuesta en Frecuencia del Filtro $h[n] = 3\\delta[n - 2]$\")\n",
        "    plt.xlabel(\"Frecuencia Normalizada (×π rad/muestra)\")\n",
        "    plt.ylabel(\"|H(e^{jω})|\")\n",
        "    plt.grid(True)\n",
        "    plt.show()\n",
        "\n",
        "def graficar_espectros(freqs_x, X_mag, freqs_y, Y_mag):\n",
        "    plt.figure()\n",
        "    plt.plot(freqs_x, X_mag, label='|X(f)|')\n",
        "    plt.plot(freqs_y, Y_mag, label='|Y(f)|', alpha=0.7)\n",
        "    plt.title(\"Espectros de la Señal Original y Filtrada\")\n",
        "    plt.xlabel(\"Frecuencia Normalizada\")\n",
        "    plt.ylabel(\"Magnitud\")\n",
        "    plt.legend()\n",
        "    plt.grid(True)\n",
        "    plt.show()\n"
      ],
      "metadata": {
        "id": "Dz0uM1bH6IwP"
      },
      "execution_count": null,
      "outputs": []
    }
  ]
}